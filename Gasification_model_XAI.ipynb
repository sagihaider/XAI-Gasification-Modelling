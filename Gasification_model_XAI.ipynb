{
 "cells": [
  {
   "cell_type": "code",
   "execution_count": null,
   "id": "fada4cfd",
   "metadata": {},
   "outputs": [],
   "source": [
    "!pip install openpyxl"
   ]
  },
  {
   "cell_type": "code",
   "execution_count": null,
   "id": "887be574",
   "metadata": {},
   "outputs": [],
   "source": [
    "import os\n",
    "import pandas as pd\n",
    "import numpy as np\n",
    "from numpy import mean, std, absolute\n",
    "import matplotlib.pyplot as plt\n",
    "import seaborn as sns\n",
    "from sklearn.model_selection import train_test_split\n",
    "from sklearn.ensemble import RandomForestRegressor, GradientBoostingRegressor\n",
    "import scipy as sp\n",
    "from sklearn.model_selection import KFold\n",
    "from sklearn.metrics import mean_squared_error as mse\n",
    "from sklearn.metrics import r2_score as r2\n",
    "from sklearn.preprocessing import normalize\n",
    "import shap\n",
    "\n",
    "\n",
    "plt.style.use('ggplot')\n",
    "shap.initjs()"
   ]
  },
  {
   "cell_type": "markdown",
   "id": "361bab1f",
   "metadata": {},
   "source": [
    "## Load Data"
   ]
  },
  {
   "cell_type": "code",
   "execution_count": null,
   "id": "8845e4c3",
   "metadata": {},
   "outputs": [],
   "source": [
    "data = pd.read_excel('Data/Gasification Data.xlsx', index_col=0, header=0)\n",
    "data = data.iloc[1:223,:14] \n",
    "display(list(data.columns.values))\n",
    "\n",
    "# Drop null balues and store dataframe in dataframe 2\n",
    "data=data.dropna()\n",
    "print(data)\n",
    "\n",
    "#Check Null values again after removing\n",
    "print(data.isnull().values.any())\n",
    "print(data.isna().values.any())\n",
    "\n",
    "X = data.iloc[:, :9]\n",
    "y = data.iloc[:, 9:]\n",
    "\n",
    "input_columns = list(X.columns.values)\n",
    "input_columns = [i.split(' [', 1)[0] for i in input_columns]\n",
    "output_columns = list(y.columns.values)\n",
    "output_columns = [i.split(' [', 1)[0] for i in output_columns]\n",
    "print(input_columns, output_columns)\n",
    "\n",
    "Xvals = X.values\n",
    "yvals = y.values\n",
    "print(Xvals.shape, yvals.shape)\n",
    "\n",
    "Xnorm = np.zeros_like(Xvals)\n",
    "ynorm = np.zeros_like(yvals)\n",
    "for idx in range(len(input_columns)):\n",
    "    Xnorm[:, idx] = (Xvals[:,idx]-min(Xvals[:,idx]))/(max(Xvals[:,idx])-min(Xvals[:,idx]))\n",
    "for odx in range(len(output_columns)):\n",
    "    ynorm[:, odx] = (yvals[:,odx]-min(yvals[:,odx]))/(max(yvals[:,odx])-min(yvals[:,odx]))\n",
    "\n",
    "print(np.max(Xnorm), np.max(ynorm))\n",
    "print(np.min(Xnorm), np.min(ynorm))"
   ]
  },
  {
   "cell_type": "code",
   "execution_count": null,
   "id": "c9ffdccc",
   "metadata": {},
   "outputs": [],
   "source": [
    "print(Xnorm)"
   ]
  },
  {
   "cell_type": "markdown",
   "id": "b17c42f7",
   "metadata": {},
   "source": [
    "## Classify the data using ensemble regressor"
   ]
  },
  {
   "cell_type": "code",
   "execution_count": null,
   "id": "00b54cff",
   "metadata": {},
   "outputs": [],
   "source": [
    "seed = 42\n",
    "X_train, X_test, y_train, y_test = train_test_split(Xnorm, ynorm, test_size=.3, random_state=seed)\n",
    "\n",
    "# For Gradient Boost\n",
    "prediction = np.zeros_like(y_test)\n",
    "gbm = {}\n",
    "for idx in range(y.shape[1]):\n",
    "    gbm[idx] = GradientBoostingRegressor(n_estimators=1000, learning_rate=.1, random_state=seed, loss='huber')\n",
    "    gbm[idx].fit(X_train, y_train[:, idx])\n",
    "    prediction[:, idx]=gbm[idx].predict(X_test)\n",
    "error = np.sqrt(mse(y_test, prediction, multioutput='raw_values'))\n",
    "r2value = r2(y_test, prediction, multioutput='raw_values')\n",
    "print(error, r2value)"
   ]
  },
  {
   "cell_type": "markdown",
   "id": "e85bdb79",
   "metadata": {},
   "source": [
    "## Plot Results"
   ]
  },
  {
   "cell_type": "markdown",
   "id": "86e216c9",
   "metadata": {},
   "source": [
    "### 1. Correlation analysis between the input features and continuous outputs "
   ]
  },
  {
   "cell_type": "code",
   "execution_count": null,
   "id": "47ee4e7b",
   "metadata": {},
   "outputs": [],
   "source": [
    "result_folder = 'Results/'\n",
    "if not os.path.exists(result_folder):\n",
    "    os.mkdir(result_folder)"
   ]
  },
  {
   "cell_type": "code",
   "execution_count": null,
   "id": "65a10d2b",
   "metadata": {},
   "outputs": [],
   "source": [
    "## Correlation analysis for best feature\n",
    "plt.figure(figsize=(50, 50))\n",
    "row = len(input_columns)\n",
    "column = len(output_columns)\n",
    "for idx, inp in enumerate(input_columns):\n",
    "    for odx, out in enumerate(output_columns):\n",
    "        plt.subplot(row, column, 5*idx+odx+1)\n",
    "        plt.scatter(Xnorm[:, idx], ynorm[:, odx], s=50, color='black')\n",
    "        slope, intercept, r, p, stderr = sp.stats.linregress(Xnorm[:, idx].astype(float), \n",
    "                                                             ynorm[:, odx].astype(float))\n",
    "        line = f'y={intercept:.2f}+{slope:.2f}x, r={r:.2f}'\n",
    "        plt.plot(Xnorm[:, idx], intercept + slope * Xnorm[:, idx], label=line, color='red')\n",
    "        plt.xlabel(\"Input Feature: \\n%s\" % inp, fontsize=16)\n",
    "        plt.ylabel(\"Output Feature: \\n%s\" % out, fontsize=16)\n",
    "        plt.legend(loc='upper left')\n",
    "plt.savefig(result_folder + 'Correlation_analysis.pdf')\n",
    "plt.clf()"
   ]
  },
  {
   "cell_type": "markdown",
   "id": "90233fc4",
   "metadata": {},
   "source": [
    "### 2. True vs Estimated plots for each test samples"
   ]
  },
  {
   "cell_type": "code",
   "execution_count": null,
   "id": "ed675153",
   "metadata": {},
   "outputs": [],
   "source": [
    "plt.figure(figsize=(15, 30))\n",
    "for odx, out in enumerate(output_columns):\n",
    "    plt.subplot(5, 1, odx +1)\n",
    "    plt.plot(np.asarray(y_test)[:, odx], label='True value', color='blue')\n",
    "    plt.plot(np.asarray(prediction)[:, odx], color='red', \n",
    "             label='Predicted value \\n (RMSE = %.4f, R2=%.3f)' % (error[odx], (r2value[odx])))\n",
    "    plt.xlabel(\"Features\", fontsize=16)\n",
    "    plt.ylabel(\"Values\", fontsize=16)\n",
    "    plt.rc('xtick',labelsize=14)\n",
    "    plt.rc('ytick',labelsize=14)\n",
    "    plt.title(\"Output: %s\" % out, fontsize=16)\n",
    "    plt.legend(fontsize=16)\n",
    "\n",
    "plt.savefig(result_folder + 'MIMO_Prediction.pdf')\n",
    "#     plt.show()"
   ]
  },
  {
   "cell_type": "markdown",
   "id": "aa799e41",
   "metadata": {},
   "source": [
    "### 2. Plot the true and estimated output"
   ]
  },
  {
   "cell_type": "code",
   "execution_count": null,
   "id": "9ff3877b",
   "metadata": {},
   "outputs": [],
   "source": [
    "## Correlation analysis between true and predicted values\n",
    "plt.figure(figsize=(18, 5)) # \n",
    "column = len(output_columns)\n",
    "for odx, out in enumerate(output_columns):\n",
    "    plt.subplot(1, column, odx+1)\n",
    "    plt.scatter(y_test[:, odx], prediction[:, odx], s=50, color='blue')\n",
    "    \n",
    "    slope, intercept, r, p, stderr = sp.stats.linregress(y_test[:, odx].astype(float), \n",
    "                                                         prediction[:, odx].astype(float)) \n",
    "    plt.plot(y_test[:, odx], intercept + slope * y_test[:, odx], color='red')\n",
    "    plt.title(\"%s: $R^2$-value=%.2f\" % (out, r**2))\n",
    "    plt.xlim(0, 1)\n",
    "    plt.ylim(0, 1)\n",
    "    plt.xlabel(\"True Value\", fontsize=16)\n",
    "    plt.ylabel(\"Predicted Value\", fontsize=16)\n",
    "plt.savefig(result_folder + 'R2_true_vs_predicted.pdf')\n",
    "plt.clf()"
   ]
  },
  {
   "cell_type": "markdown",
   "id": "ea238b59",
   "metadata": {},
   "source": [
    "## Global Interpretability"
   ]
  },
  {
   "cell_type": "code",
   "execution_count": null,
   "id": "5854ad9e",
   "metadata": {},
   "outputs": [],
   "source": [
    "for idx in range(y.shape[1]):\n",
    "    shap_values = shap.TreeExplainer(gbm[idx]).shap_values(X_train)\n",
    "    shap.summary_plot(shap_values, X_train, plot_type=\"bar\")"
   ]
  },
  {
   "cell_type": "markdown",
   "id": "354f34a2",
   "metadata": {},
   "source": [
    "### 1. Summary plot"
   ]
  },
  {
   "cell_type": "code",
   "execution_count": null,
   "id": "647a50c3",
   "metadata": {},
   "outputs": [],
   "source": [
    "column = len(output_columns)\n",
    "plt.figure(figsize=(8,10))\n",
    "for odx, out in enumerate(output_columns):\n",
    "    shap_values = shap.TreeExplainer(gbm[odx]).shap_values(X_test)\n",
    "    shap.summary_plot(shap_values, X_test, feature_names=input_columns, show=True)\n",
    "    plt.title(\"%s\" % out)\n",
    "    plt.xlim(-0.25, 0.25)\n",
    "    plt.tight_layout()\n",
    "    plt.savefig(result_folder + 'global_interpretation_summary_plot_%s.pdf' % out)\n",
    "    plt.clf()"
   ]
  },
  {
   "cell_type": "markdown",
   "id": "8ec31d30",
   "metadata": {},
   "source": [
    "### 2.  Dependence Plot"
   ]
  },
  {
   "cell_type": "code",
   "execution_count": null,
   "id": "93969586",
   "metadata": {},
   "outputs": [],
   "source": [
    "column = len(output_columns)\n",
    "plt.figure(figsize=(8,5))\n",
    "for odx, out in enumerate(output_columns):\n",
    "    shap_values = shap.TreeExplainer(gbm[idx]).shap_values(X_test)\n",
    "    shap.dependence_plot(odx, shap_values, X_test, feature_names=input_columns, show=False)\n",
    "    plt.title(\"%s\" % out)\n",
    "#     plt.xlim(-0.25, 0.25)\n",
    "    plt.tight_layout()\n",
    "    plt.savefig(result_folder + 'global_interpretation_dependence_plot_%s.pdf' % out)\n",
    "    plt.clf()"
   ]
  },
  {
   "cell_type": "markdown",
   "id": "09b5d966",
   "metadata": {},
   "source": [
    "## Individual SHAP Value Plot -- Local Interpretability"
   ]
  },
  {
   "cell_type": "code",
   "execution_count": null,
   "id": "810704ee",
   "metadata": {},
   "outputs": [],
   "source": [
    "local_copy = X_test.copy()\n",
    "local_output = np.round(gbm[1].predict(local_copy), 2)\n",
    "\n",
    "random_picks = np.arange(1, 57, 10)\n",
    "local_inputs = local_copy[random_picks]\n",
    "S = local_output[random_picks]\n",
    "print(len(local_inputs), len(S))"
   ]
  },
  {
   "cell_type": "code",
   "execution_count": null,
   "id": "a9971804",
   "metadata": {},
   "outputs": [],
   "source": [
    "def shap_plot(index, j):\n",
    "    explainerModel = shap.TreeExplainer(gbm[index])\n",
    "    shap_values_Model = explainerModel.shap_values(local_inputs)\n",
    "    p = shap.force_plot(explainerModel.expected_value, shap_values_Model[j], local_inputs[j], feature_names=input_columns,\n",
    "                        matplotlib=True, show=False)\n",
    "    return p"
   ]
  },
  {
   "cell_type": "code",
   "execution_count": null,
   "id": "fd36ec23",
   "metadata": {},
   "outputs": [],
   "source": [
    "plt.figure()\n",
    "instance=[0, 2, 4, 5]\n",
    "for j in instance:\n",
    "    for odx, out in enumerate(output_columns):\n",
    "        shap_plot(odx, j)\n",
    "        plt.savefig(result_folder + 'local_interpretation_dependence_plot_%s_instance_%d.pdf' % (out, j))"
   ]
  },
  {
   "cell_type": "markdown",
   "id": "b9028c8e",
   "metadata": {},
   "source": [
    "## Decision Plots"
   ]
  },
  {
   "cell_type": "code",
   "execution_count": null,
   "id": "fccf6c37",
   "metadata": {},
   "outputs": [],
   "source": [
    "column = len(output_columns)\n",
    "# plt.figure(figsize=(5,5))\n",
    "for odx, out in enumerate(output_columns):\n",
    "    explainer = shap.TreeExplainer(gbm[idx])\n",
    "    expected_value = explainer.expected_value\n",
    "    shap_values = explainer.shap_values(X_test)\n",
    "    shap.decision_plot(expected_value, shap_values, feature_names=input_columns, show=False)\n",
    "    plt.title(\"%s\" % out)\n",
    "#     plt.xlim(-0.25, 0.25)\n",
    "    plt.tight_layout()\n",
    "    plt.savefig(result_folder + 'global_interpretation_decision_plot_%s.pdf' % out)\n",
    "    plt.clf()"
   ]
  }
 ],
 "metadata": {
  "kernelspec": {
   "display_name": "Python 3 (ipykernel)",
   "language": "python",
   "name": "python3"
  },
  "language_info": {
   "codemirror_mode": {
    "name": "ipython",
    "version": 3
   },
   "file_extension": ".py",
   "mimetype": "text/x-python",
   "name": "python",
   "nbconvert_exporter": "python",
   "pygments_lexer": "ipython3",
   "version": "3.9.0"
  }
 },
 "nbformat": 4,
 "nbformat_minor": 5
}
